{
 "cells": [
  {
   "cell_type": "markdown",
   "metadata": {},
   "source": [
    "# Read the input as string and output will be as followed\n",
    "## input : orange\n",
    "### output : puboif\n",
    "##### Reason : Print the next consonent to the vowel and print the vowel to the next consonent"
   ]
  },
  {
   "cell_type": "code",
   "execution_count": 4,
   "metadata": {},
   "outputs": [
    {
     "name": "stdout",
     "output_type": "stream",
     "text": [
      "enter a string:orange\n",
      "puboifpuboif"
     ]
    }
   ],
   "source": [
    "s = input(\"enter a string:\")\n",
    "vowel = ['a','e','i','o','u']\n",
    "for i in s:\n",
    "    if i in vowel:\n",
    "        print(chr(ord(i)+1),end=\"\")\n",
    "    elif (ord(i)>65 and ord(i)<69) or (ord(i)>97 and ord(i)<101):\n",
    "        print('e',end=\"\")\n",
    "    elif (ord(i)>69 and ord(i)<73) or (ord(i)>101 and ord(i)<105):\n",
    "        print('i',end=\"\")\n",
    "    elif (ord(i)>73 and ord(i)<79) or (ord(i)>105 and ord(i)<111):\n",
    "        print('o',end=\"\")\n",
    "    elif (ord(i)>79 and ord(i)<85) or (ord(i)>111 and ord(i)<117):\n",
    "        print('u',end=\"\")\n",
    "    elif (ord(i)>85 and ord(i)<90) or (ord(i)>117 and ord(i)<122):\n",
    "        print('a',end=\"\")"
   ]
  },
  {
   "cell_type": "markdown",
   "metadata": {},
   "source": [
    "### input : [1,2,2,5,2,1,3,8,4]\n",
    "### output : 9\n",
    "#### conditions and assumptions :\n",
    "1. In the list,assume that there is only one 5 and only one 8\n",
    "2. 8 comes always after 5\n",
    "3. Return the sum of elements of the list\n",
    "4. Do not include the elements between 5 and 8"
   ]
  },
  {
   "cell_type": "code",
   "execution_count": 5,
   "metadata": {},
   "outputs": [
    {
     "name": "stdout",
     "output_type": "stream",
     "text": [
      "9\n",
      "9\n"
     ]
    }
   ],
   "source": [
    "list1 = [1,2,2,5,2,1,3,8,4]\n",
    "s = 0\n",
    "for i in range(len(list1)):\n",
    "    if i<list1.index(5) or i>list1.index(8):\n",
    "        s+=list1[i]\n",
    "print(s)"
   ]
  },
  {
   "cell_type": "markdown",
   "metadata": {},
   "source": [
    "## File handling :\n",
    "1. Creating a file\n",
    "2. Adding content\n",
    "3. Saving\n",
    "4. Reading\n",
    "\n",
    "modes-->read(r),write(w),append(a)"
   ]
  },
  {
   "cell_type": "code",
   "execution_count": 9,
   "metadata": {},
   "outputs": [
    {
     "data": {
      "text/plain": [
       "<function TextIOWrapper.close()>"
      ]
     },
     "execution_count": 9,
     "metadata": {},
     "output_type": "execute_result"
    },
    {
     "data": {
      "text/plain": [
       "<function TextIOWrapper.close()>"
      ]
     },
     "execution_count": 9,
     "metadata": {},
     "output_type": "execute_result"
    }
   ],
   "source": [
    "f = open(\"data.txt\",\"w\")\n",
    "f.write(\"Hello everyone\")\n",
    "f.close"
   ]
  },
  {
   "cell_type": "code",
   "execution_count": 11,
   "metadata": {},
   "outputs": [
    {
     "name": "stdout",
     "output_type": "stream",
     "text": [
      "Hello everyone\n",
      "Hello everyone\n"
     ]
    }
   ],
   "source": [
    "f1 = open(\"data.txt\",\"r\")\n",
    "str1 = f1.read()\n",
    "print(str1)"
   ]
  },
  {
   "cell_type": "code",
   "execution_count": 12,
   "metadata": {},
   "outputs": [
    {
     "name": "stdout",
     "output_type": "stream",
     "text": [
      "14\n",
      "14\n"
     ]
    }
   ],
   "source": [
    "f1 = open(\"data.txt\",\"r\")\n",
    "str1 = f1.read()\n",
    "print(len(str1))"
   ]
  },
  {
   "cell_type": "code",
   "execution_count": 13,
   "metadata": {},
   "outputs": [
    {
     "name": "stdout",
     "output_type": "stream",
     "text": [
      "14\n",
      "2\n",
      "14\n",
      "2\n"
     ]
    }
   ],
   "source": [
    "f1 = open(\"data.txt\",\"r\")\n",
    "str1 = f1.read()\n",
    "print(len(str1))#returns no.of characters\n",
    "print(len(str1.split()))#returns no.of words"
   ]
  },
  {
   "cell_type": "code",
   "execution_count": 14,
   "metadata": {},
   "outputs": [
    {
     "name": "stdout",
     "output_type": "stream",
     "text": [
      "Hello everyone\n",
      "Hello everyone\n"
     ]
    }
   ],
   "source": [
    "f1 = open(\"data.txt\",\"r\")\n",
    "str1 = f1.read()\n",
    "print(str1)"
   ]
  },
  {
   "cell_type": "code",
   "execution_count": 15,
   "metadata": {},
   "outputs": [
    {
     "data": {
      "text/plain": [
       "<function TextIOWrapper.close()>"
      ]
     },
     "execution_count": 15,
     "metadata": {},
     "output_type": "execute_result"
    },
    {
     "data": {
      "text/plain": [
       "<function TextIOWrapper.close()>"
      ]
     },
     "execution_count": 15,
     "metadata": {},
     "output_type": "execute_result"
    }
   ],
   "source": [
    "f = open(\"data.txt\",\"a\")\n",
    "f.write(\"good morning\")\n",
    "f.close"
   ]
  },
  {
   "cell_type": "code",
   "execution_count": 17,
   "metadata": {},
   "outputs": [
    {
     "name": "stdout",
     "output_type": "stream",
     "text": [
      "Hello everyone\n",
      "Hello everyone\n"
     ]
    }
   ],
   "source": [
    "f1 = open(\"data.txt\",\"r\")\n",
    "str1 = f1.read()\n",
    "print(str1)"
   ]
  },
  {
   "cell_type": "markdown",
   "metadata": {},
   "source": [
    "1. Create a folder\n",
    "2. Open that folder and create random no.of files with unique name\n",
    "3. Add random content into the file\n",
    "4. File size should be 512 bytes"
   ]
  },
  {
   "cell_type": "code",
   "execution_count": null,
   "metadata": {},
   "outputs": [],
   "source": []
  }
 ],
 "metadata": {
  "kernelspec": {
   "display_name": "Python 3",
   "language": "python",
   "name": "python3"
  },
  "language_info": {
   "codemirror_mode": {
    "name": "ipython",
    "version": 3
   },
   "file_extension": ".py",
   "mimetype": "text/x-python",
   "name": "python",
   "nbconvert_exporter": "python",
   "pygments_lexer": "ipython3",
   "version": "3.7.4"
  }
 },
 "nbformat": 4,
 "nbformat_minor": 2
}
